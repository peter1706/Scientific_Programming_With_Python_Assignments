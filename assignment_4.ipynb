{
  "nbformat": 4,
  "nbformat_minor": 0,
  "metadata": {
    "colab": {
      "name": "assignment_4.ipynb",
      "provenance": [],
      "collapsed_sections": [],
      "authorship_tag": "ABX9TyOAgpHxl8YxvgA8+hV5G8mQ",
      "include_colab_link": true
    },
    "kernelspec": {
      "name": "python3",
      "display_name": "Python 3"
    }
  },
  "cells": [
    {
      "cell_type": "markdown",
      "metadata": {
        "id": "view-in-github",
        "colab_type": "text"
      },
      "source": [
        "<a href=\"https://colab.research.google.com/github/peter1706/Scientific_Programming_With_Python_Assignments/blob/main/assignment_4.ipynb\" target=\"_parent\"><img src=\"https://colab.research.google.com/assets/colab-badge.svg\" alt=\"Open In Colab\"/></a>"
      ]
    },
    {
      "cell_type": "code",
      "metadata": {
        "id": "2lXV5cdaWhbh"
      },
      "source": [
        ""
      ],
      "execution_count": null,
      "outputs": []
    },
    {
      "cell_type": "markdown",
      "metadata": {
        "id": "3SFOfA-VW2iH"
      },
      "source": [
        "#**Assignment 4 - CSV-Files Handling -**\n",
        "\n",
        "\n",
        "---\n",
        "\n",
        "\n",
        "##Course: Scientific Programming with Python\n",
        "##Lecturer: Prof. Karl Kirschner \n",
        "##Author: Peter Volbach\n",
        "##Date: 24.11.2020\n",
        "\n",
        "---\n",
        "\n",
        "### Tasks: \n",
        "Analyzing the data concerning Lego sets.\n",
        "\n",
        "1. Read/import the data from the \"lego sets.csv\" data file.\n",
        "This file contains data on set's ID (\"**set_num**\"), its name (\"**name**\"), year released (\"**year**\"), theme ID number (\"**theme_id**\") and the number of pieces within each set (\"**num_parts**\").\n",
        "\n",
        "2. Find and report all unique number of pieces released in the Lego sets (i.e. a nonredundant list of the number of pieces).\n",
        "\n",
        "3. Calculate and report how many unique number of pieces there are in total.(For example, a list of unique number of pieces of [1, 14, 24, 56] would result in an answer of 4 total\n",
        "unique pieces.)\n",
        "\n",
        "4. Calculate and report the a) maximum and b) minimum number of pieces included in the Lego sets.\n",
        "\n",
        "5. Calculate and report the average number of pieces within the all Lego sets.\n",
        "\n",
        "6. Identify (i.e. filter) the names of the sets that contain $\\leq$ 1000 pieces, and save the results to a new csv file (Hint: via csv.writer). This new \fle should contain the following two columns: a) set name\n",
        "and b) its number of pieces. (Hint: take a look at the built-in zip function.)\n",
        "Allowed Python3 functions and modules:\n",
        "\u000f all built-in functions\n",
        "\u000f csv module\n",
        "\u000f math module or statistics module (if desired)\n",
        "\u000f sys module (if desired)\n",
        "Original Data Source https://www.kaggle.com/rtatman/lego-database"
      ]
    },
    {
      "cell_type": "markdown",
      "metadata": {
        "id": "OHvQc2LFYmf4"
      },
      "source": [
        "- [ ] Adfdfdf\n",
        "- [ ] B\n",
        "- [ ] C"
      ]
    }
  ]
}