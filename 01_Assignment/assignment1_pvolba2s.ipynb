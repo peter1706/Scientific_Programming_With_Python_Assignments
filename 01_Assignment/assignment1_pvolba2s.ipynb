{
 "cells": [
  {
   "cell_type": "markdown",
   "metadata": {},
   "source": [
    "# Assignment 1 - Task 2 - (corrected)\n",
    "---\n",
    "### Author: Peter Volbach\n",
    "### Date: 05.11.2020\n",
    "---"
   ]
  },
  {
   "cell_type": "markdown",
   "metadata": {},
   "source": [
    "#### 1. Define user defined-function for Lennard-Jones-Potential."
   ]
  },
  {
   "cell_type": "code",
   "execution_count": 9,
   "metadata": {},
   "outputs": [],
   "source": [
    "from scipy.constants import physical_constants\n",
    "\n",
    "def lennard_jones_function(epsilon :float, sigma: float,\n",
    "                         particle_distance: float) -> float:\n",
    "    '''\n",
    "    Calculates the nonbonded interaction\n",
    "    energy between two atoms by using the 6-12 Lennard-Jones-Function.\n",
    "    -------------------------------------\n",
    "    Input:\n",
    "        epsilon = negative of potential energy at the\n",
    "                  equilibrium bond length (in eV)\n",
    "        sigma   = separation distance where potential\n",
    "                  energy is zero (in Aengstrom)\n",
    "        particle_distance  = distance between two particles (in Aengstrom)\n",
    "    -------------------------------------\n",
    "    Return:\n",
    "        energy_joule = calculated interaction energy as\n",
    "                       potential energy (in Joule)\n",
    "    '''\n",
    "    # Joule for one eV\n",
    "    ev_in_joule = physical_constants[\"atomic unit of charge\"][0]\n",
    "    # alternative: ev_in_joule = 1.602176634e-19\n",
    "    \n",
    "    # calculates potential energy in eV\n",
    "    energy_ev = 4.0*epsilon*((sigma / particle_distance) ** 12 \n",
    "                     - (sigma / particle_distance) ** 6)\n",
    "    \n",
    "    # converts energy in eV to Joule\n",
    "    energy_joule = energy_ev * ev_in_joule\n",
    "    \n",
    "    return energy_joule"
   ]
  },
  {
   "cell_type": "markdown",
   "metadata": {},
   "source": [
    "#### 2. Now use the user defined function to solve the task:"
   ]
  },
  {
   "cell_type": "code",
   "execution_count": 10,
   "metadata": {},
   "outputs": [
    {
     "name": "stdout",
     "output_type": "stream",
     "text": [
      "The interaction energy between two argon atoms with epsilon=0.0103(eV), sigma=3.4(Aengstrom) and particle_distance=3.5(Aengstrom) is -8.855544754101534e-22 Joule.\n"
     ]
    }
   ],
   "source": [
    "# specific parameters for argon atoms\n",
    "epsilon = 0.0103\n",
    "sigma = 3.4\n",
    "particle_distance = 3.5\n",
    "\n",
    "# two significant numbers => round up\n",
    "energy_joule = lennard_jones_function(epsilon, sigma, particle_distance)\n",
    "\n",
    "print('The interaction energy between two argon atoms with '\n",
    "      'epsilon={}(eV), sigma={}(Aengstrom) and particle_distance={}(Aengstrom) is {} '\n",
    "      'Joule.'.format(epsilon, sigma, particle_distance, energy_joule))"
   ]
  },
  {
   "cell_type": "markdown",
   "metadata": {},
   "source": [
    "#### Corrected Mistakes\n",
    "1. lennard instead of lennord\n",
    "2. added epsilon in calculation\n",
    "3. deleted None lines\n",
    "4. None added in function head\n",
    "5. Not help function => user defined function"
   ]
  },
  {
   "cell_type": "markdown",
   "metadata": {},
   "source": [
    "### References:\n",
    "\n",
    "\n",
    "*Reference for Lennard-Jones-Potential*\n",
    "https://en.wikipedia.org/wiki/Lennard-Jones_potential\n",
    "(Negative values are valid and indicate an attractive interaction,\n",
    "positive values indicate a repulsive interaction)\n",
    "\n",
    "*1 eV is equal to the exact value of 1.602176634×10−19 Joule.*\n",
    "(see https://en.wikipedia.org/wiki/Electronvolt)\n",
    "\n",
    "*Scipy - reference for physical constants:* https://docs.scipy.org/doc/scipy/reference/constants.html"
   ]
  },
  {
   "cell_type": "code",
   "execution_count": null,
   "metadata": {},
   "outputs": [],
   "source": []
  }
 ],
 "metadata": {
  "kernelspec": {
   "display_name": "Python 3",
   "language": "python",
   "name": "python3"
  },
  "language_info": {
   "codemirror_mode": {
    "name": "ipython",
    "version": 3
   },
   "file_extension": ".py",
   "mimetype": "text/x-python",
   "name": "python",
   "nbconvert_exporter": "python",
   "pygments_lexer": "ipython3",
   "version": "3.8.3"
  }
 },
 "nbformat": 4,
 "nbformat_minor": 4
}
