{
 "cells": [
  {
   "cell_type": "markdown",
   "metadata": {},
   "source": [
    "# Assignment 1 - Task 2 -\n",
    "\n",
    "### Author: Peter Volbach\n",
    "### Date: 03.11.2020\n",
    "\n",
    "### References:\n",
    "\n",
    "*1 eV is equal to the exact value of 1.602176634×10−19 Joule.*\n",
    "(see https://en.wikipedia.org/wiki/Electronvolt)\n",
    "\n",
    "Scipy - reference for physical constants: https://docs.scipy.org/doc/scipy/reference/constants.html\n"
   ]
  },
  {
   "cell_type": "code",
   "execution_count": 1,
   "metadata": {},
   "outputs": [],
   "source": [
    "from scipy.constants import physical_constants\n",
    "\n",
    "def lennord_jones_function(epsilon: float, sigma: float,\n",
    "                         particle_distance: float) -> float:\n",
    "    '''\n",
    "    Help function that calculates the nonbonded interaction\n",
    "    energy between two atoms by using the 6-12 Lennord-Jones-Function.\n",
    "    -------------------------------------\n",
    "    Input:\n",
    "        epsilon = negative of potential energy at the\n",
    "                  equilibrium bond length (in eV)\n",
    "        sigma   = separation distance where potential\n",
    "                  energy is zero (in Aengstrom)\n",
    "        particle_distance  = distance between two particles (in Aengstrom)\n",
    "    -------------------------------------\n",
    "    Return:\n",
    "        energy_joule = calculated interaction energy as\n",
    "                       potential energy (in Joule)\n",
    "    '''\n",
    "    energy_ev = None\n",
    "    energy_joule = None\n",
    "    # Joule for one eV\n",
    "    ev_in_joule = physical_constants[\"atomic unit of charge\"][0]\n",
    "    \n",
    "    # calculates potential energy in eV\n",
    "    energy_ev = 4 * ((sigma / particle_distance) ** 12 \n",
    "                     - (sigma / particle_distance) ** 6)\n",
    "    \n",
    "    # converts energy in eV to Joule\n",
    "    energy_joule = energy_ev * ev_in_joule\n",
    "    \n",
    "    return energy_joule"
   ]
  },
  {
   "cell_type": "code",
   "execution_count": 2,
   "metadata": {},
   "outputs": [
    {
     "name": "stdout",
     "output_type": "stream",
     "text": [
      "The interaction energy between two argon atoms with epsilon=0.0103(eV), sigma=3.4(Aengstrom) and particle_distance=3.5(Aengstrom) is -8.597616266117994e-20 Joule.\n"
     ]
    }
   ],
   "source": [
    "# specific parameters for argon atoms task\n",
    "epsilon = 0.0103\n",
    "sigma = 3.4\n",
    "particle_distance = 3.5\n",
    "\n",
    "energy_joule = lennord_jones_function(epsilon, sigma, particle_distance)\n",
    "\n",
    "print('The interaction energy between two argon atoms with '\n",
    "      'epsilon={}(eV), sigma={}(Aengstrom) and particle_distance={}(Aengstrom) is {} '\n",
    "      'Joule.'.format(epsilon, sigma, particle_distance, energy_joule))"
   ]
  }
 ],
 "metadata": {
  "kernelspec": {
   "display_name": "Python 3",
   "language": "python",
   "name": "python3"
  },
  "language_info": {
   "codemirror_mode": {
    "name": "ipython",
    "version": 3
   },
   "file_extension": ".py",
   "mimetype": "text/x-python",
   "name": "python",
   "nbconvert_exporter": "python",
   "pygments_lexer": "ipython3",
   "version": "3.8.3"
  }
 },
 "nbformat": 4,
 "nbformat_minor": 4
}
