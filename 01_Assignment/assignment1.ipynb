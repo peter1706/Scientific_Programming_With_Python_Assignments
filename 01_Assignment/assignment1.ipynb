{
 "cells": [
  {
   "cell_type": "markdown",
   "metadata": {},
   "source": [
    "# Assignment 1 - Task 2 -\n",
    "\n",
    "### Author: Peter Volbach\n",
    "### Date: 02.11.2020\n",
    "### References:\n",
    "\n",
    "1 eV is equal to the exact value 1.602176634×10−19 J\n",
    "(see https://en.wikipedia.org/wiki/Electronvolt)\n",
    "\n",
    "A mit Ring - Ängström\n",
    "1 A = 100 pm = 0,1 nm = 10-10m\n",
    "(see https://de.wikipedia.org/wiki/%C3%85ngstr%C3%B6m_%28Einheit%29)"
   ]
  },
  {
   "cell_type": "code",
   "execution_count": null,
   "metadata": {},
   "outputs": [],
   "source": [
    "%load_ext pycodestyle_magic"
   ]
  },
  {
   "cell_type": "code",
   "execution_count": null,
   "metadata": {},
   "outputs": [],
   "source": [
    "%pycodestyle_on"
   ]
  },
  {
   "cell_type": "code",
   "execution_count": 3,
   "metadata": {},
   "outputs": [],
   "source": [
    "%pycodestyle_on\n",
    "\n",
    "def lennordJonesFunction(epsilon: float, sigma: float, particleDistance: float) -> float:\n",
    "    '''\n",
    "    This function calculates the nonbonded interaction\n",
    "    energy between two argon(TODO not only for argon!!) atoms by using\n",
    "    the 6-12 Lennord-Jones-Function.\n",
    "    -------------------------------------\n",
    "    Input:\n",
    "        epsilon = negative of potential energy at the\n",
    "                  equilibrium bond length (in eV)\n",
    "        sigma   = separation distance where potential\n",
    "                  energy is zero (in Ängstrom)\n",
    "        particleDistance  = distance between two particles (in Ängstrom)\n",
    "    -------------------------------------\n",
    "    Return:\n",
    "        energyJoule = calculated interaction energy as\n",
    "                       potential energy (in Joule)\n",
    "    '''\n",
    "    ## one eV equals this amount of joule\n",
    "    eVInJoule = 1.602176634e-19\n",
    "    \n",
    "    ## calculates potential energy in eV\n",
    "    energyEv = 4 * ( ((sigma/r)**12) - ((sigma/r)**6) )\n",
    "    \n",
    "    ## convert eV to Joule\n",
    "    energyJoule = energyEv * eVInJoule\n",
    "    \n",
    "    return energyJoule, energyEv\n",
    "\n",
    "test = 0"
   ]
  },
  {
   "cell_type": "code",
   "execution_count": 7,
   "metadata": {},
   "outputs": [
    {
     "data": {
      "text/plain": [
       "-0.5366209994370692"
      ]
     },
     "execution_count": 7,
     "metadata": {},
     "output_type": "execute_result"
    }
   ],
   "source": [
    "epsilon = 0.0103\n",
    "sigma = 3.4\n",
    "r = 3.5\n",
    "energyJoule, energyEv = lennordJonesFunction(epsilon, sigma, r)\n",
    "energyEv"
   ]
  },
  {
   "cell_type": "code",
   "execution_count": 16,
   "metadata": {},
   "outputs": [
    {
     "name": "stderr",
     "output_type": "stream",
     "text": [
      "12:8: E128 continuation line under-indented for visual indent\n",
      "12:8: E128 continuation line under-indented for visual indent\n"
     ]
    }
   ],
   "source": [
    "# for argon atoms\n",
    "epsilon = 0.0103\n",
    "sigma = 3.4\n",
    "r = 3.5\n",
    "\n",
    "energyJoule = lennordJonesFunction(epsilon, sigma, r)\n",
    "\n",
    "print(\"\"\"\n",
    "        The interaction energy between two argon atoms with epsilon = {},\n",
    "        sigma = {} and r = {} is {} Joule.\n",
    "      \"\"\".format(epsilon, sigma,\n",
    "       r, energyJoule))"
   ]
  },
  {
   "cell_type": "code",
   "execution_count": null,
   "metadata": {},
   "outputs": [],
   "source": []
  }
 ],
 "metadata": {
  "kernelspec": {
   "display_name": "Python 3",
   "language": "python",
   "name": "python3"
  },
  "language_info": {
   "codemirror_mode": {
    "name": "ipython",
    "version": 3
   },
   "file_extension": ".py",
   "mimetype": "text/x-python",
   "name": "python",
   "nbconvert_exporter": "python",
   "pygments_lexer": "ipython3",
   "version": "3.8.3"
  }
 },
 "nbformat": 4,
 "nbformat_minor": 4
}
