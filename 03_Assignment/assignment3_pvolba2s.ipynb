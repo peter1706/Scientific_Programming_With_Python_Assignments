{
 "cells": [
  {
   "cell_type": "markdown",
   "metadata": {},
   "source": [
    "# Assignment 3\n",
    "---\n",
    "### Author: Peter Volbach\n",
    "### Date: 18.11.2020\n",
    "---\n",
    "## Tasks:\n",
    "\n",
    "### Task 1\n",
    "If needed, rewrite your Lennard-Jones program to improve the code (e.g. becoming more concise,\n",
    "improving readability, standardizing the format, correcting errors).\n",
    "\n",
    "### Task 2\n",
    "Using your Lennard-Jones function:\n",
    "1. Compute the nonbonded interaction energy between two argon atoms that are separated at the following distances: 3.0, 3.4, 3.8, 4.2, 4.6 and 5.0 (Angstrom).\n",
    "\n",
    "2. Write some new code that identifies and reports (i.e. prints) the lowest energy value and the distance that it occurs at.\n",
    "\n",
    "3. Report all values to their significant figure, using the units joules and angstroms."
   ]
  },
  {
   "cell_type": "markdown",
   "metadata": {},
   "source": [
    "#### 1. Used libraries:"
   ]
  },
  {
   "cell_type": "code",
   "execution_count": 1,
   "metadata": {},
   "outputs": [],
   "source": [
    "import sys  # for clean exiting of program before interpreter reaches end\n",
    "from scipy.constants import physical_constants"
   ]
  },
  {
   "cell_type": "markdown",
   "metadata": {},
   "source": [
    "#### 2. Defined user functions:"
   ]
  },
  {
   "cell_type": "code",
   "execution_count": 2,
   "metadata": {},
   "outputs": [],
   "source": [
    "def lennard_jones_function(epsilon: (float, int) = None,\n",
    "                           sigma: (float, int) = None,\n",
    "                           particle_distance: (float, int) = None) -> float:\n",
    "    '''\n",
    "    Calculates the nonbonded interaction\n",
    "    energy between two atoms by using the 6-12 Lennard-Jones-Function.\n",
    "    -------------------------------------\n",
    "    Input:\n",
    "        epsilon = negative of potential energy at the\n",
    "                  equilibrium bond length (in eV)\n",
    "        sigma   = separation distance where potential\n",
    "                  energy is zero (in Angstrom)\n",
    "        particle_distance  = distance between two particles (in Angstrom)\n",
    "    -------------------------------------\n",
    "    Return:\n",
    "        energy_ev = calculated interaction energy as\n",
    "                    potential energy (in eV)\n",
    "    '''\n",
    "    energy_ev = None\n",
    "\n",
    "    # check that all input arguments are float or int\n",
    "    if not isinstance(epsilon, (float, int)):\n",
    "        sys.exit('Error: epsilon needs to be of type float or int !')\n",
    "\n",
    "    if not isinstance(sigma, (float, int)):\n",
    "        sys.exit('Error: sigma needs to be of type float or int !')\n",
    "\n",
    "    if not isinstance(particle_distance, (float, int)):\n",
    "        sys.exit('Error: particle_distance needs to be of type float or int !')\n",
    "\n",
    "    energy_ev = 4.0 * epsilon * ((sigma / particle_distance) ** 12\n",
    "                      - (sigma / particle_distance) ** 6)\n",
    "\n",
    "    return energy_ev"
   ]
  },
  {
   "cell_type": "code",
   "execution_count": 3,
   "metadata": {},
   "outputs": [],
   "source": [
    "def ev_to_joules(energy_ev: (float, int) = None) -> float:\n",
    "    '''\n",
    "    Converts energy from eV to Joules.\n",
    "        -------------------------------------\n",
    "    Input:\n",
    "        energy_ev = energy in eV\n",
    "    -------------------------------------\n",
    "    Return:\n",
    "        energy_joule = energy in Joules\n",
    "    '''\n",
    "    ev_in_joule = None\n",
    "    energy_joule = None\n",
    "\n",
    "    if not isinstance(energy_ev, (float, int)):\n",
    "        return 'Error: energy_ev needs to be of type float or int !'\n",
    "\n",
    "    # Joule for one eV\n",
    "    ev_in_joule = physical_constants[\"atomic unit of charge\"][0]\n",
    "    energy_joule = energy_ev * ev_in_joule\n",
    "\n",
    "    return energy_joule"
   ]
  },
  {
   "cell_type": "code",
   "execution_count": 4,
   "metadata": {},
   "outputs": [],
   "source": [
    "def sig_figs(number: float = None, number_sig_figs: int = None) -> str:\n",
    "    '''\n",
    "    Returns string of a number with the given significant figures\n",
    "    using the scientific notation.\n",
    "    -------------------------------------\n",
    "    Input:\n",
    "        number = float number\n",
    "        number_sig_figs = number of significant to be considered\n",
    "    -------------------------------------\n",
    "    Return:\n",
    "        sig_fig_number = numbers rounded to sig figs as string\n",
    "                          using the scientific notation.\n",
    "    '''\n",
    "    sig_fig_number = None\n",
    "\n",
    "    if not isinstance(number, (float)):\n",
    "        sys.exit('Error: number needs to be of type float!')\n",
    "\n",
    "    if not isinstance(number_sig_figs, (int)):\n",
    "        sys.exit('Error: number_sig_figs needs to be of type int!')\n",
    "\n",
    "    sig_fig_number = '{:.{}e}'.format(number, number_sig_figs - 1)\n",
    "\n",
    "    return sig_fig_number"
   ]
  },
  {
   "cell_type": "code",
   "execution_count": 5,
   "metadata": {},
   "outputs": [],
   "source": [
    "def lowest_energy_distance(energies: [float] = None,\n",
    "                           distances: [float] = None) -> (float, float):\n",
    "    '''\n",
    "    Returns the lowest energy value (Joule) and the distance (Angstrom)\n",
    "    it occurs at. If there is more than one the first one in the\n",
    "    list is returned.\n",
    "    -------------------------------------\n",
    "    Input:\n",
    "        energies = list of computed energies in Joule\n",
    "        distances = list of according distances in Angstrom\n",
    "    -------------------------------------\n",
    "    Return:\n",
    "        Tuple with minimum energy value and distance.\n",
    "    '''\n",
    "    energy_min = None\n",
    "    distance_min = None\n",
    "\n",
    "    if not isinstance(energies, list) or any([not isinstance(value, float)\n",
    "                                              for value in energies]):\n",
    "        sys.exit('Error: energies needs to be a list of float values!')\n",
    "\n",
    "    if not isinstance(distances, list) or any([not isinstance(value, float)\n",
    "                                              for value in distances]):\n",
    "        sys.exit('Error: distances needs to be a list of float values!')\n",
    "\n",
    "    energy_min = min(energies)\n",
    "    distance_min = distances[energies.index(energy_min)]\n",
    "\n",
    "    return (energy_min, distance_min)"
   ]
  },
  {
   "cell_type": "markdown",
   "metadata": {},
   "source": [
    "#### 3. Solve Task 2\n",
    "\n",
    "#### a) Define and assign variables used in the computation:"
   ]
  },
  {
   "cell_type": "code",
   "execution_count": 6,
   "metadata": {},
   "outputs": [],
   "source": [
    "# variables used for saving results\n",
    "energies_joule = []\n",
    "energy_min = None\n",
    "distance_min = None\n",
    "\n",
    "# specific values for argon atoms\n",
    "epsilon_argon = 0.0103\n",
    "sigma_argon = 3.40\n",
    "distances_argon = [3.0, 3.4, 3.8, 4.2, 4.6, 5.0]\n",
    "\n",
    "# number of significant figures needed to be considered here\n",
    "num_sig_figs = 2"
   ]
  },
  {
   "cell_type": "markdown",
   "metadata": {},
   "source": [
    "#### b) Do the computation:"
   ]
  },
  {
   "cell_type": "code",
   "execution_count": 7,
   "metadata": {},
   "outputs": [],
   "source": [
    "# compute energy values for all distances in eV and convert them to Joules\n",
    "for distance in distances_argon:\n",
    "    energies_joule.append(ev_to_joules(lennard_jones_function(epsilon_argon,\n",
    "                                                              sigma_argon,\n",
    "                                                              distance)))\n",
    "\n",
    "# find the minimum energy value and its distance value\n",
    "energy_min, distance_min = lowest_energy_distance(energies_joule,\n",
    "                                                  distances_argon)"
   ]
  },
  {
   "cell_type": "markdown",
   "metadata": {},
   "source": [
    "#### c) Print the results:"
   ]
  },
  {
   "cell_type": "code",
   "execution_count": 8,
   "metadata": {},
   "outputs": [
    {
     "name": "stdout",
     "output_type": "stream",
     "text": [
      "The interaction energy between two argon atoms with epsilon = 0.0103(eV), sigma = 3.40(Angstrom) was calculated with the following distances:\n",
      "\n",
      "Distance: 3.0 (Angstrom) -> Energy: 1.6e-20 (Joule)\n",
      "Distance: 3.4 (Angstrom) -> Energy: 0.0e+00 (Joule)\n",
      "Distance: 3.8 (Angstrom) -> Energy: -1.6e-21 (Joule)\n",
      "Distance: 4.2 (Angstrom) -> Energy: -1.3e-21 (Joule)\n",
      "Distance: 4.6 (Angstrom) -> Energy: -9.0e-22 (Joule)\n",
      "Distance: 5.0 (Angstrom) -> Energy: -5.9e-22 (Joule)\n",
      "\n",
      "The lowest energy value is -1.6e-21 (Joule) and it occurs at the distance of 3.8 (Angstrom).\n"
     ]
    }
   ],
   "source": [
    "print('The interaction energy between two argon atoms with '\n",
    "      'epsilon = {}(eV), sigma = {:.2f}(Angstrom) was calculated with '\n",
    "      'the following distances:\\n'.format(epsilon_argon, sigma_argon))\n",
    "\n",
    "# print all energy values to the given number of sig figs\n",
    "for index in range(len(energies_joule)):\n",
    "    print('Distance: {:.1f} (Angstrom) -> Energy: {} (Joule)'\n",
    "          .format(distances_argon[index],\n",
    "                  sig_figs(energies_joule[index],\n",
    "                  num_sig_figs)))\n",
    "\n",
    "# print the minimum energy value and the according distance\n",
    "print('\\nThe lowest energy value is {} (Joule) and it occurs at the distance '\n",
    "      'of {:.1f} (Angstrom).'.format(sig_figs(energy_min, num_sig_figs),\n",
    "                                     distance_min))"
   ]
  },
  {
   "cell_type": "markdown",
   "metadata": {},
   "source": [
    "### References:\n",
    "\n",
    "\n",
    "*Reference for Lennard-Jones-Potential*\n",
    "https://en.wikipedia.org/wiki/Lennard-Jones_potential\n",
    "(Negative values are valid and indicate an attractive interaction,\n",
    "positive values indicate a repulsive interaction)\n",
    "\n",
    "*1 eV is equal to the exact value of 1.602176634×10−19 Joule.*\n",
    "(see https://en.wikipedia.org/wiki/Electronvolt)\n",
    "\n",
    "*Scipy - reference for physical constants:* https://docs.scipy.org/doc/scipy/reference/constants.html\n",
    "\n",
    "*Google's Colaboratory of this lecture:* https://colab.research.google.com/drive/1tY6udW7OJWDSGHVJqC7uzVcrDiA5mrI_?usp=sharing#scrollTo=m3tqC8G9gAYh"
   ]
  }
 ],
 "metadata": {
  "kernelspec": {
   "display_name": "Python 3",
   "language": "python",
   "name": "python3"
  },
  "language_info": {
   "codemirror_mode": {
    "name": "ipython",
    "version": 3
   },
   "file_extension": ".py",
   "mimetype": "text/x-python",
   "name": "python",
   "nbconvert_exporter": "python",
   "pygments_lexer": "ipython3",
   "version": "3.8.3"
  }
 },
 "nbformat": 4,
 "nbformat_minor": 4
}
